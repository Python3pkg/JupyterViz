{
 "cells": [
  {
   "cell_type": "code",
   "execution_count": 2,
   "metadata": {
    "collapsed": false
   },
   "outputs": [],
   "source": [
    "import pandas as pd\n",
    "capadf = pd.read_csv(\"data/bifcapab.csv\",header=None,sep=\"^\")\n",
    "# Scala Code\n",
    "\"\"\"p.airlineCode,\n",
    "p.flightNumber.toString,\n",
    "p.departureDate.toString,\n",
    "p.cabinCode,\n",
    "p.daysToDeparture.toString,\n",
    "\"%.2f\".format(p.loadFactor),\n",
    "p.capacity.toString\"\"\"\n",
    "\n",
    "capadf.columns=[\"airline\",\"flightNumber\",\"departureDate\",\"cabinCode\",\"daysToDeparture\",\"loadFactor\",\"capacity\"]\n",
    "capadf[\"loadFactor\"]=capadf[\"loadFactor\"].astype(float)\n",
    "capadf[\"daysToDeparture\"]=capadf[\"daysToDeparture\"].astype(int)\n",
    "capadf[\"flightNumber\"]=capadf[\"flightNumber\"].astype(str)"
   ]
  },
  {
   "cell_type": "code",
   "execution_count": 3,
   "metadata": {
    "collapsed": false
   },
   "outputs": [],
   "source": [
    "import numpy as np\n",
    "# We need to extract for each combination of flightnumber departureDate the max loadfactor\n",
    "def extractCurve(df):\n",
    "    df = df.groupby(\"daysToDeparture\").first().reset_index().sort_values(by=\"daysToDeparture\")\n",
    "    df.index=df[\"daysToDeparture\"]\n",
    "    size=len(df)\n",
    "    df=df.reindex(range(0,365))\n",
    "    curve = list(reversed(df[\"loadFactor\"].fillna(0).values.tolist()))\n",
    "    if size>120:\n",
    "        return curve\n",
    "    else:\n",
    "        return np.nan\n",
    "\n",
    "lpf = capadf.groupby([\"flightNumber\",\"departureDate\"])\\\n",
    "    .apply(extractCurve)\n",
    "lpf = lpf.reset_index()\n",
    "lpf = lpf.dropna()\n",
    "lpf[\"title\"]=lpf.apply(lambda row:row[\"departureDate\"]+\":\"+row[\"flightNumber\"],axis=1)\n",
    "lpf[\"values\"]=lpf[0]\n",
    "lpf=lpf.sort_values(by=\"departureDate\")"
   ]
  },
  {
   "cell_type": "code",
   "execution_count": 4,
   "metadata": {
    "collapsed": false
   },
   "outputs": [],
   "source": [
    "data = lpf[[\"values\",\"title\"]].to_dict(orient=\"records\")"
   ]
  },
  {
   "cell_type": "code",
   "execution_count": 5,
   "metadata": {
    "collapsed": true
   },
   "outputs": [],
   "source": [
    "import jupyterviz as jz"
   ]
  },
  {
   "cell_type": "code",
   "execution_count": 6,
   "metadata": {
    "collapsed": false
   },
   "outputs": [
    {
     "data": {
      "text/plain": [
       "990"
      ]
     },
     "execution_count": 6,
     "metadata": {},
     "output_type": "execute_result"
    }
   ],
   "source": [
    "len(data)"
   ]
  },
  {
   "cell_type": "code",
   "execution_count": 7,
   "metadata": {
    "collapsed": false
   },
   "outputs": [
    {
     "data": {
      "text/html": [
       "\n",
       "        <iframe\n",
       "            width=\"650\"\n",
       "            height=\"650\"\n",
       "            src=\"tmp/plot_viz.html\"\n",
       "            frameborder=\"0\"\n",
       "            allowfullscreen\n",
       "        ></iframe>\n",
       "        "
      ],
      "text/plain": [
       "<IPython.lib.display.IFrame at 0x7fcc5beb5a50>"
      ]
     },
     "execution_count": 7,
     "metadata": {},
     "output_type": "execute_result"
    }
   ],
   "source": [
    "jz.viz(type=\"horizon\",data=data)"
   ]
  },
  {
   "cell_type": "code",
   "execution_count": 8,
   "metadata": {
    "collapsed": false
   },
   "outputs": [
    {
     "data": {
      "text/html": [
       "\n",
       "        <iframe\n",
       "            width=\"650\"\n",
       "            height=\"650\"\n",
       "            src=\"tmp/plot_viz.html\"\n",
       "            frameborder=\"0\"\n",
       "            allowfullscreen\n",
       "        ></iframe>\n",
       "        "
      ],
      "text/plain": [
       "<IPython.lib.display.IFrame at 0x7fcc5beb5ad0>"
      ]
     },
     "execution_count": 8,
     "metadata": {},
     "output_type": "execute_result"
    }
   ],
   "source": [
    "jz.viz(type=\"sparkline\",data=data)"
   ]
  },
  {
   "cell_type": "code",
   "execution_count": null,
   "metadata": {
    "collapsed": true
   },
   "outputs": [],
   "source": []
  }
 ],
 "metadata": {
  "kernelspec": {
   "display_name": "Python 2",
   "language": "python",
   "name": "python2"
  },
  "language_info": {
   "codemirror_mode": {
    "name": "ipython",
    "version": 2
   },
   "file_extension": ".py",
   "mimetype": "text/x-python",
   "name": "python",
   "nbconvert_exporter": "python",
   "pygments_lexer": "ipython2",
   "version": "2.7.9"
  }
 },
 "nbformat": 4,
 "nbformat_minor": 1
}
