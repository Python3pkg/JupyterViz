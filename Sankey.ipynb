{
 "cells": [
  {
   "cell_type": "code",
   "execution_count": 1,
   "metadata": {
    "collapsed": true
   },
   "outputs": [],
   "source": [
    "import pandas as pd"
   ]
  },
  {
   "cell_type": "code",
   "execution_count": 2,
   "metadata": {
    "collapsed": false
   },
   "outputs": [],
   "source": [
    "exp = pd.read_csv(\"data/sankey.csv\")"
   ]
  },
  {
   "cell_type": "code",
   "execution_count": 3,
   "metadata": {
    "collapsed": false
   },
   "outputs": [
    {
     "data": {
      "text/html": [
       "<div>\n",
       "<table border=\"1\" class=\"dataframe\">\n",
       "  <thead>\n",
       "    <tr style=\"text-align: right;\">\n",
       "      <th></th>\n",
       "      <th>source</th>\n",
       "      <th>target</th>\n",
       "      <th>value</th>\n",
       "    </tr>\n",
       "  </thead>\n",
       "  <tbody>\n",
       "    <tr>\n",
       "      <th>0</th>\n",
       "      <td>Barry</td>\n",
       "      <td>Elvis</td>\n",
       "      <td>2</td>\n",
       "    </tr>\n",
       "    <tr>\n",
       "      <th>1</th>\n",
       "      <td>Frodo</td>\n",
       "      <td>Elvis</td>\n",
       "      <td>2</td>\n",
       "    </tr>\n",
       "    <tr>\n",
       "      <th>2</th>\n",
       "      <td>Frodo</td>\n",
       "      <td>Sarah</td>\n",
       "      <td>2</td>\n",
       "    </tr>\n",
       "    <tr>\n",
       "      <th>3</th>\n",
       "      <td>Barry</td>\n",
       "      <td>Alice</td>\n",
       "      <td>2</td>\n",
       "    </tr>\n",
       "    <tr>\n",
       "      <th>4</th>\n",
       "      <td>Elvis</td>\n",
       "      <td>Sarah</td>\n",
       "      <td>2</td>\n",
       "    </tr>\n",
       "  </tbody>\n",
       "</table>\n",
       "</div>"
      ],
      "text/plain": [
       "  source target  value\n",
       "0  Barry  Elvis      2\n",
       "1  Frodo  Elvis      2\n",
       "2  Frodo  Sarah      2\n",
       "3  Barry  Alice      2\n",
       "4  Elvis  Sarah      2"
      ]
     },
     "execution_count": 3,
     "metadata": {},
     "output_type": "execute_result"
    }
   ],
   "source": [
    "exp.head()"
   ]
  },
  {
   "cell_type": "code",
   "execution_count": 4,
   "metadata": {
    "collapsed": true
   },
   "outputs": [],
   "source": [
    "from IPython.display import IFrame"
   ]
  },
  {
   "cell_type": "code",
   "execution_count": 5,
   "metadata": {
    "collapsed": false
   },
   "outputs": [
    {
     "data": {
      "text/html": [
       "\n",
       "        <iframe\n",
       "            width=\"500\"\n",
       "            height=\"300\"\n",
       "            src=\"tmp/tmpsan.htm\"\n",
       "            frameborder=\"0\"\n",
       "            allowfullscreen\n",
       "        ></iframe>\n",
       "        "
      ],
      "text/plain": [
       "<IPython.lib.display.IFrame at 0x7fcb65f50110>"
      ]
     },
     "execution_count": 5,
     "metadata": {},
     "output_type": "execute_result"
    }
   ],
   "source": [
    "with open(\"Itemplates/Isankey.html\") as input:\n",
    "    template = input.read()\n",
    "template=template.replace(\"{data}\",exp.to_json(orient=\"records\"))\n",
    "template=template.replace(\"{width}\",str(400))\n",
    "template=template.replace(\"{height}\",str(200))\n",
    "with open(\"tmp/tmpsan.htm\",\"w\") as output:\n",
    "    output.write(template)\n",
    "IFrame(\"tmp/tmpsan.htm\",500,300)"
   ]
  },
  {
   "cell_type": "code",
   "execution_count": 6,
   "metadata": {
    "collapsed": true
   },
   "outputs": [],
   "source": [
    "routes = pd.read_csv(\"data/continent-route.csv\",header=None)"
   ]
  },
  {
   "cell_type": "code",
   "execution_count": 7,
   "metadata": {
    "collapsed": false
   },
   "outputs": [
    {
     "data": {
      "text/html": [
       "<div>\n",
       "<table border=\"1\" class=\"dataframe\">\n",
       "  <thead>\n",
       "    <tr style=\"text-align: right;\">\n",
       "      <th></th>\n",
       "      <th>0</th>\n",
       "      <th>1</th>\n",
       "    </tr>\n",
       "  </thead>\n",
       "  <tbody>\n",
       "    <tr>\n",
       "      <th>0</th>\n",
       "      <td>Oceania-South America</td>\n",
       "      <td>10194</td>\n",
       "    </tr>\n",
       "    <tr>\n",
       "      <th>1</th>\n",
       "      <td>Asia-Asia</td>\n",
       "      <td>9523203</td>\n",
       "    </tr>\n",
       "    <tr>\n",
       "      <th>2</th>\n",
       "      <td>Not relevant/available-Not relevant/available</td>\n",
       "      <td>402</td>\n",
       "    </tr>\n",
       "    <tr>\n",
       "      <th>3</th>\n",
       "      <td>Africa-Europe</td>\n",
       "      <td>967786</td>\n",
       "    </tr>\n",
       "    <tr>\n",
       "      <th>4</th>\n",
       "      <td>Not relevant/available-Europe</td>\n",
       "      <td>3</td>\n",
       "    </tr>\n",
       "  </tbody>\n",
       "</table>\n",
       "</div>"
      ],
      "text/plain": [
       "                                               0        1\n",
       "0                          Oceania-South America    10194\n",
       "1                                      Asia-Asia  9523203\n",
       "2  Not relevant/available-Not relevant/available      402\n",
       "3                                  Africa-Europe   967786\n",
       "4                  Not relevant/available-Europe        3"
      ]
     },
     "execution_count": 7,
     "metadata": {},
     "output_type": "execute_result"
    }
   ],
   "source": [
    "routes.head()"
   ]
  },
  {
   "cell_type": "code",
   "execution_count": 8,
   "metadata": {
    "collapsed": false
   },
   "outputs": [],
   "source": [
    "routes[\"source\"]=routes.apply(lambda row: row[0].split(\"-\")[0]+\"-Departure\",axis=1)\n",
    "routes[\"target\"]=routes.apply(lambda row: row[0].split(\"-\")[1]+\"-Arrival\",axis=1)\n",
    "routes = routes.drop(0,1)\n",
    "routes.columns = [\"value\",\"source\",\"target\"]"
   ]
  },
  {
   "cell_type": "code",
   "execution_count": 9,
   "metadata": {
    "collapsed": false
   },
   "outputs": [
    {
     "data": {
      "text/html": [
       "<div>\n",
       "<table border=\"1\" class=\"dataframe\">\n",
       "  <thead>\n",
       "    <tr style=\"text-align: right;\">\n",
       "      <th></th>\n",
       "      <th>value</th>\n",
       "      <th>source</th>\n",
       "      <th>target</th>\n",
       "    </tr>\n",
       "  </thead>\n",
       "  <tbody>\n",
       "    <tr>\n",
       "      <th>0</th>\n",
       "      <td>10194</td>\n",
       "      <td>Oceania-Departure</td>\n",
       "      <td>South America-Arrival</td>\n",
       "    </tr>\n",
       "    <tr>\n",
       "      <th>1</th>\n",
       "      <td>9523203</td>\n",
       "      <td>Asia-Departure</td>\n",
       "      <td>Asia-Arrival</td>\n",
       "    </tr>\n",
       "    <tr>\n",
       "      <th>2</th>\n",
       "      <td>402</td>\n",
       "      <td>Not relevant/available-Departure</td>\n",
       "      <td>Not relevant/available-Arrival</td>\n",
       "    </tr>\n",
       "    <tr>\n",
       "      <th>3</th>\n",
       "      <td>967786</td>\n",
       "      <td>Africa-Departure</td>\n",
       "      <td>Europe-Arrival</td>\n",
       "    </tr>\n",
       "    <tr>\n",
       "      <th>4</th>\n",
       "      <td>3</td>\n",
       "      <td>Not relevant/available-Departure</td>\n",
       "      <td>Europe-Arrival</td>\n",
       "    </tr>\n",
       "  </tbody>\n",
       "</table>\n",
       "</div>"
      ],
      "text/plain": [
       "     value                            source                          target\n",
       "0    10194                 Oceania-Departure           South America-Arrival\n",
       "1  9523203                    Asia-Departure                    Asia-Arrival\n",
       "2      402  Not relevant/available-Departure  Not relevant/available-Arrival\n",
       "3   967786                  Africa-Departure                  Europe-Arrival\n",
       "4        3  Not relevant/available-Departure                  Europe-Arrival"
      ]
     },
     "execution_count": 9,
     "metadata": {},
     "output_type": "execute_result"
    }
   ],
   "source": [
    "routes.head()"
   ]
  },
  {
   "cell_type": "code",
   "execution_count": 10,
   "metadata": {
    "collapsed": false
   },
   "outputs": [
    {
     "data": {
      "text/html": [
       "\n",
       "        <iframe\n",
       "            width=\"600\"\n",
       "            height=\"900\"\n",
       "            src=\"tmp/tmpsan2.htm\"\n",
       "            frameborder=\"0\"\n",
       "            allowfullscreen\n",
       "        ></iframe>\n",
       "        "
      ],
      "text/plain": [
       "<IPython.lib.display.IFrame at 0x7fcb65ce4990>"
      ]
     },
     "execution_count": 10,
     "metadata": {},
     "output_type": "execute_result"
    }
   ],
   "source": [
    "with open(\"Itemplates/Isankey.html\") as input:\n",
    "    template = input.read()\n",
    "template=template.replace(\"{data}\",routes.to_json(orient=\"records\"))\n",
    "template=template.replace(\"{width}\",str(600))\n",
    "template=template.replace(\"{height}\",str(800))\n",
    "with open(\"tmp/tmpsan2.htm\",\"w\") as output:\n",
    "    output.write(template)\n",
    "IFrame(\"tmp/tmpsan2.htm\",600,900)"
   ]
  },
  {
   "cell_type": "code",
   "execution_count": 65,
   "metadata": {
    "collapsed": true
   },
   "outputs": [],
   "source": [
    "import json\n",
    "energyJson = json.loads(\"\"\"\n",
    "{\"nodes\":[\n",
    "{\"name\":\"Agricultural 'waste'\"},\n",
    "{\"name\":\"Bio-conversion\"},\n",
    "{\"name\":\"Liquid\"},\n",
    "{\"name\":\"Losses\"},\n",
    "{\"name\":\"Solid\"},\n",
    "{\"name\":\"Gas\"},\n",
    "{\"name\":\"Biofuel imports\"},\n",
    "{\"name\":\"Biomass imports\"},\n",
    "{\"name\":\"Coal imports\"},\n",
    "{\"name\":\"Coal\"},\n",
    "{\"name\":\"Coal reserves\"},\n",
    "{\"name\":\"District heating\"},\n",
    "{\"name\":\"Industry\"},\n",
    "{\"name\":\"Heating and cooling - commercial\"},\n",
    "{\"name\":\"Heating and cooling - homes\"},\n",
    "{\"name\":\"Electricity grid\"},\n",
    "{\"name\":\"Over generation / exports\"},\n",
    "{\"name\":\"H2 conversion\"},\n",
    "{\"name\":\"Road transport\"},\n",
    "{\"name\":\"Agriculture\"},\n",
    "{\"name\":\"Rail transport\"},\n",
    "{\"name\":\"Lighting & appliances - commercial\"},\n",
    "{\"name\":\"Lighting & appliances - homes\"},\n",
    "{\"name\":\"Gas imports\"},\n",
    "{\"name\":\"Ngas\"},\n",
    "{\"name\":\"Gas reserves\"},\n",
    "{\"name\":\"Thermal generation\"},\n",
    "{\"name\":\"Geothermal\"},\n",
    "{\"name\":\"H2\"},\n",
    "{\"name\":\"Hydro\"},\n",
    "{\"name\":\"International shipping\"},\n",
    "{\"name\":\"Domestic aviation\"},\n",
    "{\"name\":\"International aviation\"},\n",
    "{\"name\":\"National navigation\"},\n",
    "{\"name\":\"Marine algae\"},\n",
    "{\"name\":\"Nuclear\"},\n",
    "{\"name\":\"Oil imports\"},\n",
    "{\"name\":\"Oil\"},\n",
    "{\"name\":\"Oil reserves\"},\n",
    "{\"name\":\"Other waste\"},\n",
    "{\"name\":\"Pumped heat\"},\n",
    "{\"name\":\"Solar PV\"},\n",
    "{\"name\":\"Solar Thermal\"},\n",
    "{\"name\":\"Solar\"},\n",
    "{\"name\":\"Tidal\"},\n",
    "{\"name\":\"UK land based bioenergy\"},\n",
    "{\"name\":\"Wave\"},\n",
    "{\"name\":\"Wind\"}\n",
    "],\n",
    "\"links\":[\n",
    "{\"source\":0,\"target\":1,\"value\":124.729},\n",
    "{\"source\":1,\"target\":2,\"value\":0.597},\n",
    "{\"source\":1,\"target\":3,\"value\":26.862},\n",
    "{\"source\":1,\"target\":4,\"value\":280.322},\n",
    "{\"source\":1,\"target\":5,\"value\":81.144},\n",
    "{\"source\":6,\"target\":2,\"value\":35},\n",
    "{\"source\":7,\"target\":4,\"value\":35},\n",
    "{\"source\":8,\"target\":9,\"value\":11.606},\n",
    "{\"source\":10,\"target\":9,\"value\":63.965},\n",
    "{\"source\":9,\"target\":4,\"value\":75.571},\n",
    "{\"source\":11,\"target\":12,\"value\":10.639},\n",
    "{\"source\":11,\"target\":13,\"value\":22.505},\n",
    "{\"source\":11,\"target\":14,\"value\":46.184},\n",
    "{\"source\":15,\"target\":16,\"value\":104.453},\n",
    "{\"source\":15,\"target\":14,\"value\":113.726},\n",
    "{\"source\":15,\"target\":17,\"value\":27.14},\n",
    "{\"source\":15,\"target\":12,\"value\":342.165},\n",
    "{\"source\":15,\"target\":18,\"value\":37.797},\n",
    "{\"source\":15,\"target\":19,\"value\":4.412},\n",
    "{\"source\":15,\"target\":13,\"value\":40.858},\n",
    "{\"source\":15,\"target\":3,\"value\":56.691},\n",
    "{\"source\":15,\"target\":20,\"value\":7.863},\n",
    "{\"source\":15,\"target\":21,\"value\":90.008},\n",
    "{\"source\":15,\"target\":22,\"value\":93.494},\n",
    "{\"source\":23,\"target\":24,\"value\":40.719},\n",
    "{\"source\":25,\"target\":24,\"value\":82.233},\n",
    "{\"source\":5,\"target\":13,\"value\":0.129},\n",
    "{\"source\":5,\"target\":3,\"value\":1.401},\n",
    "{\"source\":5,\"target\":26,\"value\":151.891},\n",
    "{\"source\":5,\"target\":19,\"value\":2.096},\n",
    "{\"source\":5,\"target\":12,\"value\":48.58},\n",
    "{\"source\":27,\"target\":15,\"value\":7.013},\n",
    "{\"source\":17,\"target\":28,\"value\":20.897},\n",
    "{\"source\":17,\"target\":3,\"value\":6.242},\n",
    "{\"source\":28,\"target\":18,\"value\":20.897},\n",
    "{\"source\":29,\"target\":15,\"value\":6.995},\n",
    "{\"source\":2,\"target\":12,\"value\":121.066},\n",
    "{\"source\":2,\"target\":30,\"value\":128.69},\n",
    "{\"source\":2,\"target\":18,\"value\":135.835},\n",
    "{\"source\":2,\"target\":31,\"value\":14.458},\n",
    "{\"source\":2,\"target\":32,\"value\":206.267},\n",
    "{\"source\":2,\"target\":19,\"value\":3.64},\n",
    "{\"source\":2,\"target\":33,\"value\":33.218},\n",
    "{\"source\":2,\"target\":20,\"value\":4.413},\n",
    "{\"source\":34,\"target\":1,\"value\":4.375},\n",
    "{\"source\":24,\"target\":5,\"value\":122.952},\n",
    "{\"source\":35,\"target\":26,\"value\":839.978},\n",
    "{\"source\":36,\"target\":37,\"value\":504.287},\n",
    "{\"source\":38,\"target\":37,\"value\":107.703},\n",
    "{\"source\":37,\"target\":2,\"value\":611.99},\n",
    "{\"source\":39,\"target\":4,\"value\":56.587},\n",
    "{\"source\":39,\"target\":1,\"value\":77.81},\n",
    "{\"source\":40,\"target\":14,\"value\":193.026},\n",
    "{\"source\":40,\"target\":13,\"value\":70.672},\n",
    "{\"source\":41,\"target\":15,\"value\":59.901},\n",
    "{\"source\":42,\"target\":14,\"value\":19.263},\n",
    "{\"source\":43,\"target\":42,\"value\":19.263},\n",
    "{\"source\":43,\"target\":41,\"value\":59.901},\n",
    "{\"source\":4,\"target\":19,\"value\":0.882},\n",
    "{\"source\":4,\"target\":26,\"value\":400.12},\n",
    "{\"source\":4,\"target\":12,\"value\":46.477},\n",
    "{\"source\":26,\"target\":15,\"value\":525.531},\n",
    "{\"source\":26,\"target\":3,\"value\":787.129},\n",
    "{\"source\":26,\"target\":11,\"value\":79.329},\n",
    "{\"source\":44,\"target\":15,\"value\":9.452},\n",
    "{\"source\":45,\"target\":1,\"value\":182.01},\n",
    "{\"source\":46,\"target\":15,\"value\":19.013},\n",
    "{\"source\":47,\"target\":15,\"value\":289.366}\n",
    "]}\n",
    "\"\"\")"
   ]
  },
  {
   "cell_type": "code",
   "execution_count": 67,
   "metadata": {
    "collapsed": false
   },
   "outputs": [],
   "source": [
    "energyData = map(lambda obj: {'source': energyJson[\"nodes\"][obj[\"source\"]][\"name\"],\"target\": energyJson[\"nodes\"][obj[\"target\"]][\"name\"],\"value\": obj[\"value\"]} ,energyJson[\"links\"])"
   ]
  },
  {
   "cell_type": "code",
   "execution_count": 68,
   "metadata": {
    "collapsed": true
   },
   "outputs": [],
   "source": [
    "energydf = pd.DataFrame(energyData)"
   ]
  },
  {
   "cell_type": "code",
   "execution_count": 69,
   "metadata": {
    "collapsed": false
   },
   "outputs": [
    {
     "data": {
      "text/html": [
       "<div>\n",
       "<table border=\"1\" class=\"dataframe\">\n",
       "  <thead>\n",
       "    <tr style=\"text-align: right;\">\n",
       "      <th></th>\n",
       "      <th>source</th>\n",
       "      <th>target</th>\n",
       "      <th>value</th>\n",
       "    </tr>\n",
       "  </thead>\n",
       "  <tbody>\n",
       "    <tr>\n",
       "      <th>0</th>\n",
       "      <td>Agricultural 'waste'</td>\n",
       "      <td>Bio-conversion</td>\n",
       "      <td>124.729</td>\n",
       "    </tr>\n",
       "    <tr>\n",
       "      <th>1</th>\n",
       "      <td>Bio-conversion</td>\n",
       "      <td>Liquid</td>\n",
       "      <td>0.597</td>\n",
       "    </tr>\n",
       "    <tr>\n",
       "      <th>2</th>\n",
       "      <td>Bio-conversion</td>\n",
       "      <td>Losses</td>\n",
       "      <td>26.862</td>\n",
       "    </tr>\n",
       "    <tr>\n",
       "      <th>3</th>\n",
       "      <td>Bio-conversion</td>\n",
       "      <td>Solid</td>\n",
       "      <td>280.322</td>\n",
       "    </tr>\n",
       "    <tr>\n",
       "      <th>4</th>\n",
       "      <td>Bio-conversion</td>\n",
       "      <td>Gas</td>\n",
       "      <td>81.144</td>\n",
       "    </tr>\n",
       "  </tbody>\n",
       "</table>\n",
       "</div>"
      ],
      "text/plain": [
       "                 source          target    value\n",
       "0  Agricultural 'waste'  Bio-conversion  124.729\n",
       "1        Bio-conversion          Liquid    0.597\n",
       "2        Bio-conversion          Losses   26.862\n",
       "3        Bio-conversion           Solid  280.322\n",
       "4        Bio-conversion             Gas   81.144"
      ]
     },
     "execution_count": 69,
     "metadata": {},
     "output_type": "execute_result"
    }
   ],
   "source": [
    "energydf.head()"
   ]
  },
  {
   "cell_type": "code",
   "execution_count": 78,
   "metadata": {
    "collapsed": false
   },
   "outputs": [
    {
     "data": {
      "text/html": [
       "\n",
       "        <iframe\n",
       "            width=\"900\"\n",
       "            height=\"700\"\n",
       "            src=\"tmp/tmpsan2.htm\"\n",
       "            frameborder=\"0\"\n",
       "            allowfullscreen\n",
       "        ></iframe>\n",
       "        "
      ],
      "text/plain": [
       "<IPython.lib.display.IFrame at 0x7f6276fdf890>"
      ]
     },
     "execution_count": 78,
     "metadata": {},
     "output_type": "execute_result"
    }
   ],
   "source": [
    "with open(\"Itemplates/Isankey.html\") as input:\n",
    "    template = input.read()\n",
    "template=template.replace(\"{data}\",energydf.to_json(orient=\"records\"))\n",
    "template=template.replace(\"{width}\",str(800))\n",
    "template=template.replace(\"{height}\",str(600))\n",
    "with open(\"tmp/tmpsan2.htm\",\"w\") as output:\n",
    "    output.write(template)\n",
    "IFrame(\"tmp/tmpsan2.htm\",900,700)"
   ]
  },
  {
   "cell_type": "code",
   "execution_count": 11,
   "metadata": {
    "collapsed": false
   },
   "outputs": [
    {
     "data": {
      "text/plain": [
       "'[{\"value\":10194,\"source\":\"Oceania-Departure\",\"target\":\"South America-Arrival\"},{\"value\":9523203,\"source\":\"Asia-Departure\",\"target\":\"Asia-Arrival\"},{\"value\":402,\"source\":\"Not relevant\\\\/available-Departure\",\"target\":\"Not relevant\\\\/available-Arrival\"},{\"value\":967786,\"source\":\"Africa-Departure\",\"target\":\"Europe-Arrival\"},{\"value\":3,\"source\":\"Not relevant\\\\/available-Departure\",\"target\":\"Europe-Arrival\"},{\"value\":1560330,\"source\":\"Europe-Departure\",\"target\":\"North America-Arrival\"},{\"value\":178517,\"source\":\"Africa-Departure\",\"target\":\"North America-Arrival\"},{\"value\":14231,\"source\":\"Oceania-Departure\",\"target\":\"Africa-Arrival\"},{\"value\":176459,\"source\":\"North America-Departure\",\"target\":\"Oceania-Arrival\"},{\"value\":14060143,\"source\":\"Europe-Departure\",\"target\":\"Europe-Arrival\"},{\"value\":228959,\"source\":\"Europe-Departure\",\"target\":\"Oceania-Arrival\"},{\"value\":352902,\"source\":\"South America-Departure\",\"target\":\"Europe-Arrival\"},{\"value\":16535,\"source\":\"South America-Departure\",\"target\":\"Oceania-Arrival\"},{\"value\":217022,\"source\":\"Oceania-Departure\",\"target\":\"Asia-Arrival\"},{\"value\":41376,\"source\":\"South America-Departure\",\"target\":\"Asia-Arrival\"},{\"value\":1657308,\"source\":\"Europe-Departure\",\"target\":\"Asia-Arrival\"},{\"value\":7,\"source\":\"Not relevant\\\\/available-Departure\",\"target\":\"Oceania-Arrival\"},{\"value\":483238,\"source\":\"Asia-Departure\",\"target\":\"Africa-Arrival\"},{\"value\":406738,\"source\":\"South America-Departure\",\"target\":\"North America-Arrival\"},{\"value\":1208492,\"source\":\"Asia-Departure\",\"target\":\"North America-Arrival\"},{\"value\":1797031,\"source\":\"North America-Departure\",\"target\":\"Europe-Arrival\"},{\"value\":2903267,\"source\":\"South America-Departure\",\"target\":\"South America-Arrival\"},{\"value\":12424,\"source\":\"Africa-Departure\",\"target\":\"South America-Arrival\"},{\"value\":24783,\"source\":\"Africa-Departure\",\"target\":\"Oceania-Arrival\"},{\"value\":1586297,\"source\":\"Africa-Departure\",\"target\":\"Africa-Arrival\"},{\"value\":8,\"source\":\"Europe-Departure\",\"target\":\"Not relevant\\\\/available-Arrival\"},{\"value\":1911141,\"source\":\"Oceania-Departure\",\"target\":\"Oceania-Arrival\"},{\"value\":480351,\"source\":\"Asia-Departure\",\"target\":\"Oceania-Arrival\"},{\"value\":388944,\"source\":\"Europe-Departure\",\"target\":\"South America-Arrival\"},{\"value\":2711770,\"source\":\"Asia-Departure\",\"target\":\"Europe-Arrival\"},{\"value\":84067,\"source\":\"Asia-Departure\",\"target\":\"South America-Arrival\"},{\"value\":132079,\"source\":\"North America-Departure\",\"target\":\"Africa-Arrival\"},{\"value\":418720,\"source\":\"Africa-Departure\",\"target\":\"Asia-Arrival\"},{\"value\":91834,\"source\":\"Oceania-Departure\",\"target\":\"North America-Arrival\"},{\"value\":475940,\"source\":\"Europe-Departure\",\"target\":\"Africa-Arrival\"},{\"value\":818673,\"source\":\"North America-Departure\",\"target\":\"Asia-Arrival\"},{\"value\":10528,\"source\":\"South America-Departure\",\"target\":\"Africa-Arrival\"},{\"value\":51,\"source\":\"Oceania-Departure\",\"target\":\"Not relevant\\\\/available-Arrival\"},{\"value\":18777187,\"source\":\"North America-Departure\",\"target\":\"North America-Arrival\"},{\"value\":14,\"source\":\"North America-Departure\",\"target\":\"Not relevant\\\\/available-Arrival\"},{\"value\":888075,\"source\":\"North America-Departure\",\"target\":\"South America-Arrival\"},{\"value\":226265,\"source\":\"Oceania-Departure\",\"target\":\"Europe-Arrival\"}]'"
      ]
     },
     "execution_count": 11,
     "metadata": {},
     "output_type": "execute_result"
    }
   ],
   "source": [
    "routes.to_json(orient=\"records\")"
   ]
  },
  {
   "cell_type": "code",
   "execution_count": null,
   "metadata": {
    "collapsed": true
   },
   "outputs": [],
   "source": []
  }
 ],
 "metadata": {
  "kernelspec": {
   "display_name": "Python 2",
   "language": "python",
   "name": "python2"
  },
  "language_info": {
   "codemirror_mode": {
    "name": "ipython",
    "version": 2
   },
   "file_extension": ".py",
   "mimetype": "text/x-python",
   "name": "python",
   "nbconvert_exporter": "python",
   "pygments_lexer": "ipython2",
   "version": "2.7.9"
  }
 },
 "nbformat": 4,
 "nbformat_minor": 0
}
