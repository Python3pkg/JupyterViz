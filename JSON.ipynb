{
 "cells": [
  {
   "cell_type": "code",
   "execution_count": 3,
   "metadata": {
    "collapsed": true
   },
   "outputs": [],
   "source": [
    "import urllib2\n",
    "import json\n",
    "#First we get the holidays from the Holiday API\n",
    "hfurl = urllib2.urlopen(\"https://holidayapi.com/v1/holidays?country=FR&year=2017\")\n",
    "holidaysFrance = json.loads(hfurl.read())"
   ]
  },
  {
   "cell_type": "code",
   "execution_count": 4,
   "metadata": {
    "collapsed": false
   },
   "outputs": [
    {
     "data": {
      "text/html": [
       "\n",
       "        <iframe\n",
       "            width=\"800\"\n",
       "            height=\"500\"\n",
       "            src=\"tmp/tmpjson.htm\"\n",
       "            frameborder=\"0\"\n",
       "            allowfullscreen\n",
       "        ></iframe>\n",
       "        "
      ],
      "text/plain": [
       "<IPython.lib.display.IFrame at 0x7f77206e3ed0>"
      ]
     },
     "execution_count": 4,
     "metadata": {},
     "output_type": "execute_result"
    }
   ],
   "source": [
    "from IPython.display import IFrame\n",
    "with open(\"Itemplates/Ijson.html\") as input:\n",
    "    template = input.read()\n",
    "template=template.replace(\"{data}\",json.dumps(holidaysFrance))\n",
    "template=template.replace(\"{width}\",str(700))\n",
    "template=template.replace(\"{height}\",str(400))\n",
    "with open(\"tmp/tmpjson.htm\",\"w\") as output:\n",
    "    output.write(template)\n",
    "IFrame(\"tmp/tmpjson.htm\",800,500)"
   ]
  },
  {
   "cell_type": "code",
   "execution_count": 12,
   "metadata": {
    "collapsed": false
   },
   "outputs": [
    {
     "data": {
      "text/html": [
       "<div>\n",
       "<table border=\"1\" class=\"dataframe\">\n",
       "  <thead>\n",
       "    <tr style=\"text-align: right;\">\n",
       "      <th></th>\n",
       "      <th>country</th>\n",
       "      <th>date</th>\n",
       "      <th>name</th>\n",
       "    </tr>\n",
       "  </thead>\n",
       "  <tbody>\n",
       "    <tr>\n",
       "      <th>0</th>\n",
       "      <td>FR</td>\n",
       "      <td>2017-05-01</td>\n",
       "      <td>Fête du Travail</td>\n",
       "    </tr>\n",
       "    <tr>\n",
       "      <th>1</th>\n",
       "      <td>FR</td>\n",
       "      <td>2017-04-17</td>\n",
       "      <td>Lundi de Pâques</td>\n",
       "    </tr>\n",
       "    <tr>\n",
       "      <th>2</th>\n",
       "      <td>FR</td>\n",
       "      <td>2017-05-08</td>\n",
       "      <td>Fête de la Victoire 1945</td>\n",
       "    </tr>\n",
       "    <tr>\n",
       "      <th>3</th>\n",
       "      <td>FR</td>\n",
       "      <td>2017-12-25</td>\n",
       "      <td>Noël</td>\n",
       "    </tr>\n",
       "    <tr>\n",
       "      <th>4</th>\n",
       "      <td>FR</td>\n",
       "      <td>2017-08-15</td>\n",
       "      <td>Assomption</td>\n",
       "    </tr>\n",
       "    <tr>\n",
       "      <th>5</th>\n",
       "      <td>FR</td>\n",
       "      <td>2017-11-01</td>\n",
       "      <td>Toussaint</td>\n",
       "    </tr>\n",
       "    <tr>\n",
       "      <th>6</th>\n",
       "      <td>FR</td>\n",
       "      <td>2017-01-01</td>\n",
       "      <td>Jour de l'an</td>\n",
       "    </tr>\n",
       "    <tr>\n",
       "      <th>7</th>\n",
       "      <td>FR</td>\n",
       "      <td>2017-11-11</td>\n",
       "      <td>Armistice de 1918</td>\n",
       "    </tr>\n",
       "    <tr>\n",
       "      <th>8</th>\n",
       "      <td>FR</td>\n",
       "      <td>2017-06-05</td>\n",
       "      <td>Lundi de Pentecôte</td>\n",
       "    </tr>\n",
       "    <tr>\n",
       "      <th>9</th>\n",
       "      <td>FR</td>\n",
       "      <td>2017-07-14</td>\n",
       "      <td>Fête nationale</td>\n",
       "    </tr>\n",
       "    <tr>\n",
       "      <th>10</th>\n",
       "      <td>FR</td>\n",
       "      <td>2017-05-25</td>\n",
       "      <td>Jeudi de l'Ascension</td>\n",
       "    </tr>\n",
       "  </tbody>\n",
       "</table>\n",
       "</div>"
      ],
      "text/plain": [
       "   country        date                      name\n",
       "0       FR  2017-05-01           Fête du Travail\n",
       "1       FR  2017-04-17           Lundi de Pâques\n",
       "2       FR  2017-05-08  Fête de la Victoire 1945\n",
       "3       FR  2017-12-25                      Noël\n",
       "4       FR  2017-08-15                Assomption\n",
       "5       FR  2017-11-01                 Toussaint\n",
       "6       FR  2017-01-01              Jour de l'an\n",
       "7       FR  2017-11-11         Armistice de 1918\n",
       "8       FR  2017-06-05        Lundi de Pentecôte\n",
       "9       FR  2017-07-14            Fête nationale\n",
       "10      FR  2017-05-25      Jeudi de l'Ascension"
      ]
     },
     "execution_count": 12,
     "metadata": {},
     "output_type": "execute_result"
    }
   ],
   "source": [
    "import pandas as pd\n",
    "listho = [holidaysFrance[\"holidays\"][key][0] for key in holidaysFrance[\"holidays\"]]\n",
    "pd.DataFrame(listho)"
   ]
  },
  {
   "cell_type": "code",
   "execution_count": null,
   "metadata": {
    "collapsed": true
   },
   "outputs": [],
   "source": []
  }
 ],
 "metadata": {
  "kernelspec": {
   "display_name": "Python 2",
   "language": "python",
   "name": "python2"
  },
  "language_info": {
   "codemirror_mode": {
    "name": "ipython",
    "version": 2
   },
   "file_extension": ".py",
   "mimetype": "text/x-python",
   "name": "python",
   "nbconvert_exporter": "python",
   "pygments_lexer": "ipython2",
   "version": "2.7.6"
  }
 },
 "nbformat": 4,
 "nbformat_minor": 0
}
