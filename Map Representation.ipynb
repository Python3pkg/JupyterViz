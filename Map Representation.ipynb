{
 "cells": [
  {
   "cell_type": "code",
   "execution_count": 1,
   "metadata": {
    "collapsed": true
   },
   "outputs": [],
   "source": [
    "import json"
   ]
  },
  {
   "cell_type": "code",
   "execution_count": 2,
   "metadata": {
    "collapsed": false
   },
   "outputs": [],
   "source": [
    "data = json.load(open(\"data/cities.json\"))"
   ]
  },
  {
   "cell_type": "code",
   "execution_count": 3,
   "metadata": {
    "collapsed": false
   },
   "outputs": [],
   "source": [
    "import jupyterviz"
   ]
  },
  {
   "cell_type": "code",
   "execution_count": 4,
   "metadata": {
    "collapsed": false
   },
   "outputs": [
    {
     "data": {
      "text/html": [
       "\n",
       "        <iframe\n",
       "            width=\"950\"\n",
       "            height=\"950\"\n",
       "            src=\"tmp/tmpbox.htm\"\n",
       "            frameborder=\"0\"\n",
       "            allowfullscreen\n",
       "        ></iframe>\n",
       "        "
      ],
      "text/plain": [
       "<IPython.lib.display.IFrame at 0x7fe8780d2710>"
      ]
     },
     "execution_count": 4,
     "metadata": {},
     "output_type": "execute_result"
    }
   ],
   "source": [
    "jupyterviz.viz(\"tmp/map.htm\",\"Idatamap\",data,900,900,{'center':[-3.7, 40],'scale':800})"
   ]
  },
  {
   "cell_type": "code",
   "execution_count": 5,
   "metadata": {
    "collapsed": true
   },
   "outputs": [],
   "source": [
    "import pandas as pd"
   ]
  },
  {
   "cell_type": "code",
   "execution_count": 6,
   "metadata": {
    "collapsed": false
   },
   "outputs": [],
   "source": [
    "#Portal de datos abiertos de Madrid - Censo de locales\n",
    "localesdf = pd.read_csv(\"/home/seb/Downloads/Locales201606.csv\",sep=\";\")"
   ]
  },
  {
   "cell_type": "code",
   "execution_count": 7,
   "metadata": {
    "collapsed": false
   },
   "outputs": [
    {
     "data": {
      "text/html": [
       "<div>\n",
       "<table border=\"1\" class=\"dataframe\">\n",
       "  <thead>\n",
       "    <tr style=\"text-align: right;\">\n",
       "      <th></th>\n",
       "      <th>id_local</th>\n",
       "      <th>id_distrito_local</th>\n",
       "      <th>desc_distrito_local</th>\n",
       "      <th>id_barrio_local</th>\n",
       "      <th>desc_barrio_local</th>\n",
       "      <th>cod_barrio_local</th>\n",
       "      <th>id_seccion_censal_local</th>\n",
       "      <th>desc_seccion_censal_local</th>\n",
       "      <th>coordenada_x_local</th>\n",
       "      <th>coordenada_y_local</th>\n",
       "      <th>...</th>\n",
       "      <th>cal_acceso</th>\n",
       "      <th>coordenada_x_agrupacion</th>\n",
       "      <th>coordenada_y_agrup</th>\n",
       "      <th>id_agrupacion</th>\n",
       "      <th>nombre_agrupacion</th>\n",
       "      <th>id_tipo_agrup</th>\n",
       "      <th>desc_tipo_agrup</th>\n",
       "      <th>id_planta_agrupado</th>\n",
       "      <th>id_local_agrupado</th>\n",
       "      <th>rotulo</th>\n",
       "    </tr>\n",
       "  </thead>\n",
       "  <tbody>\n",
       "    <tr>\n",
       "      <th>0</th>\n",
       "      <td>270080413</td>\n",
       "      <td>4</td>\n",
       "      <td>SALAMANCA</td>\n",
       "      <td>405</td>\n",
       "      <td>LISTA</td>\n",
       "      <td>NaN</td>\n",
       "      <td>NaN</td>\n",
       "      <td>106</td>\n",
       "      <td>442992,92</td>\n",
       "      <td>4475762,65</td>\n",
       "      <td>...</td>\n",
       "      <td></td>\n",
       "      <td>NaN</td>\n",
       "      <td>NaN</td>\n",
       "      <td>NaN</td>\n",
       "      <td>NaN</td>\n",
       "      <td>NaN</td>\n",
       "      <td>NaN</td>\n",
       "      <td>NaN</td>\n",
       "      <td>NaN</td>\n",
       "      <td>TABACO</td>\n",
       "    </tr>\n",
       "    <tr>\n",
       "      <th>1</th>\n",
       "      <td>270080423</td>\n",
       "      <td>4</td>\n",
       "      <td>SALAMANCA</td>\n",
       "      <td>405</td>\n",
       "      <td>LISTA</td>\n",
       "      <td>NaN</td>\n",
       "      <td>NaN</td>\n",
       "      <td>106</td>\n",
       "      <td>443037,29</td>\n",
       "      <td>4475759,16</td>\n",
       "      <td>...</td>\n",
       "      <td></td>\n",
       "      <td>NaN</td>\n",
       "      <td>NaN</td>\n",
       "      <td>NaN</td>\n",
       "      <td>NaN</td>\n",
       "      <td>NaN</td>\n",
       "      <td>NaN</td>\n",
       "      <td>NaN</td>\n",
       "      <td>NaN</td>\n",
       "      <td>CASA BALTASAR                                 ...</td>\n",
       "    </tr>\n",
       "    <tr>\n",
       "      <th>2</th>\n",
       "      <td>270080433</td>\n",
       "      <td>4</td>\n",
       "      <td>SALAMANCA</td>\n",
       "      <td>405</td>\n",
       "      <td>LISTA</td>\n",
       "      <td>NaN</td>\n",
       "      <td>NaN</td>\n",
       "      <td>106</td>\n",
       "      <td>442990,91</td>\n",
       "      <td>4475871,77</td>\n",
       "      <td>...</td>\n",
       "      <td></td>\n",
       "      <td>NaN</td>\n",
       "      <td>NaN</td>\n",
       "      <td>NaN</td>\n",
       "      <td>NaN</td>\n",
       "      <td>NaN</td>\n",
       "      <td>NaN</td>\n",
       "      <td>NaN</td>\n",
       "      <td>NaN</td>\n",
       "      <td>BAR LUSA                                      ...</td>\n",
       "    </tr>\n",
       "    <tr>\n",
       "      <th>3</th>\n",
       "      <td>270080586</td>\n",
       "      <td>4</td>\n",
       "      <td>SALAMANCA</td>\n",
       "      <td>405</td>\n",
       "      <td>LISTA</td>\n",
       "      <td>NaN</td>\n",
       "      <td>NaN</td>\n",
       "      <td>108</td>\n",
       "      <td>442964,73</td>\n",
       "      <td>4475996,99</td>\n",
       "      <td>...</td>\n",
       "      <td></td>\n",
       "      <td>NaN</td>\n",
       "      <td>NaN</td>\n",
       "      <td>NaN</td>\n",
       "      <td>NaN</td>\n",
       "      <td>NaN</td>\n",
       "      <td>NaN</td>\n",
       "      <td>NaN</td>\n",
       "      <td>NaN</td>\n",
       "      <td>LA FLAUTA MAGICA</td>\n",
       "    </tr>\n",
       "    <tr>\n",
       "      <th>4</th>\n",
       "      <td>270080592</td>\n",
       "      <td>4</td>\n",
       "      <td>SALAMANCA</td>\n",
       "      <td>405</td>\n",
       "      <td>LISTA</td>\n",
       "      <td>NaN</td>\n",
       "      <td>NaN</td>\n",
       "      <td>108</td>\n",
       "      <td>442851,45</td>\n",
       "      <td>4475960,38</td>\n",
       "      <td>...</td>\n",
       "      <td></td>\n",
       "      <td>NaN</td>\n",
       "      <td>NaN</td>\n",
       "      <td>NaN</td>\n",
       "      <td>NaN</td>\n",
       "      <td>NaN</td>\n",
       "      <td>NaN</td>\n",
       "      <td>NaN</td>\n",
       "      <td>NaN</td>\n",
       "      <td>ANTIGUEDADES</td>\n",
       "    </tr>\n",
       "  </tbody>\n",
       "</table>\n",
       "<p>5 rows × 40 columns</p>\n",
       "</div>"
      ],
      "text/plain": [
       "    id_local  id_distrito_local   desc_distrito_local  id_barrio_local  \\\n",
       "0  270080413                  4  SALAMANCA                         405   \n",
       "1  270080423                  4  SALAMANCA                         405   \n",
       "2  270080433                  4  SALAMANCA                         405   \n",
       "3  270080586                  4  SALAMANCA                         405   \n",
       "4  270080592                  4  SALAMANCA                         405   \n",
       "\n",
       "      desc_barrio_local  cod_barrio_local  id_seccion_censal_local  \\\n",
       "0  LISTA                              NaN                      NaN   \n",
       "1  LISTA                              NaN                      NaN   \n",
       "2  LISTA                              NaN                      NaN   \n",
       "3  LISTA                              NaN                      NaN   \n",
       "4  LISTA                              NaN                      NaN   \n",
       "\n",
       "   desc_seccion_censal_local coordenada_x_local coordenada_y_local  \\\n",
       "0                        106          442992,92         4475762,65   \n",
       "1                        106          443037,29         4475759,16   \n",
       "2                        106          442990,91         4475871,77   \n",
       "3                        108          442964,73         4475996,99   \n",
       "4                        108          442851,45         4475960,38   \n",
       "\n",
       "                         ...                          cal_acceso  \\\n",
       "0                        ...                                       \n",
       "1                        ...                                       \n",
       "2                        ...                                       \n",
       "3                        ...                                       \n",
       "4                        ...                                       \n",
       "\n",
       "  coordenada_x_agrupacion  coordenada_y_agrup id_agrupacion  \\\n",
       "0                     NaN                 NaN           NaN   \n",
       "1                     NaN                 NaN           NaN   \n",
       "2                     NaN                 NaN           NaN   \n",
       "3                     NaN                 NaN           NaN   \n",
       "4                     NaN                 NaN           NaN   \n",
       "\n",
       "   nombre_agrupacion id_tipo_agrup desc_tipo_agrup  id_planta_agrupado  \\\n",
       "0                NaN           NaN             NaN                 NaN   \n",
       "1                NaN           NaN             NaN                 NaN   \n",
       "2                NaN           NaN             NaN                 NaN   \n",
       "3                NaN           NaN             NaN                 NaN   \n",
       "4                NaN           NaN             NaN                 NaN   \n",
       "\n",
       "   id_local_agrupado                                             rotulo  \n",
       "0                NaN                                             TABACO  \n",
       "1                NaN  CASA BALTASAR                                 ...  \n",
       "2                NaN  BAR LUSA                                      ...  \n",
       "3                NaN                                   LA FLAUTA MAGICA  \n",
       "4                NaN                                       ANTIGUEDADES  \n",
       "\n",
       "[5 rows x 40 columns]"
      ]
     },
     "execution_count": 7,
     "metadata": {},
     "output_type": "execute_result"
    }
   ],
   "source": [
    "localesdf.head(5)"
   ]
  },
  {
   "cell_type": "code",
   "execution_count": 8,
   "metadata": {
    "collapsed": false
   },
   "outputs": [
    {
     "data": {
      "text/plain": [
       "144852"
      ]
     },
     "execution_count": 8,
     "metadata": {},
     "output_type": "execute_result"
    }
   ],
   "source": [
    "len(localesdf)"
   ]
  },
  {
   "cell_type": "code",
   "execution_count": 9,
   "metadata": {
    "collapsed": false
   },
   "outputs": [],
   "source": [
    "localesdf['coordenada_x_local']=pd.to_numeric(localesdf['coordenada_x_local'].str.replace(\",\",\".\"))\n",
    "localesdf['coordenada_y_local']=pd.to_numeric(localesdf['coordenada_y_local'].str.replace(\",\",\".\"))"
   ]
  },
  {
   "cell_type": "code",
   "execution_count": 10,
   "metadata": {
    "collapsed": true
   },
   "outputs": [],
   "source": [
    "localesdf=localesdf[localesdf['coordenada_x_local']>100000]"
   ]
  },
  {
   "cell_type": "code",
   "execution_count": 18,
   "metadata": {
    "collapsed": true
   },
   "outputs": [],
   "source": [
    "localesdf[\"name\"]=localesdf.apply(lambda row: row['rotulo'].decode(\"latin-1\") , 1)"
   ]
  },
  {
   "cell_type": "code",
   "execution_count": 19,
   "metadata": {
    "collapsed": false
   },
   "outputs": [],
   "source": [
    "import utm\n",
    "localesdf['lat']=localesdf.apply(lambda row: utm.to_latlon(row['coordenada_x_local'],row['coordenada_y_local'],30,\"T\")[0] , 1)   \n",
    "localesdf[\"lng\"]=localesdf.apply(lambda row: utm.to_latlon(row['coordenada_x_local'],row['coordenada_y_local'],30,\"T\")[1] , 1) "
   ]
  },
  {
   "cell_type": "code",
   "execution_count": 20,
   "metadata": {
    "collapsed": false
   },
   "outputs": [],
   "source": [
    "result = localesdf[['lat',\"lng\",\"name\"]].to_dict(orient=\"records\")"
   ]
  },
  {
   "cell_type": "code",
   "execution_count": 23,
   "metadata": {
    "collapsed": false
   },
   "outputs": [],
   "source": [
    "resultb = result[:1000]"
   ]
  },
  {
   "cell_type": "code",
   "execution_count": 24,
   "metadata": {
    "collapsed": false
   },
   "outputs": [
    {
     "data": {
      "text/html": [
       "\n",
       "        <iframe\n",
       "            width=\"950\"\n",
       "            height=\"550\"\n",
       "            src=\"tmp/tmpbox.htm\"\n",
       "            frameborder=\"0\"\n",
       "            allowfullscreen\n",
       "        ></iframe>\n",
       "        "
      ],
      "text/plain": [
       "<IPython.lib.display.IFrame at 0x7fe83bc58b90>"
      ]
     },
     "execution_count": 24,
     "metadata": {},
     "output_type": "execute_result"
    }
   ],
   "source": [
    "jupyterviz.viz(\"tmp/map2.htm\",\"IleafletMap\",resultb,900,500,{'center':[ 40.5, -3.7],'zoom':11})"
   ]
  },
  {
   "cell_type": "code",
   "execution_count": null,
   "metadata": {
    "collapsed": true
   },
   "outputs": [],
   "source": []
  }
 ],
 "metadata": {
  "kernelspec": {
   "display_name": "Python 2",
   "language": "python",
   "name": "python2"
  },
  "language_info": {
   "codemirror_mode": {
    "name": "ipython",
    "version": 2
   },
   "file_extension": ".py",
   "mimetype": "text/x-python",
   "name": "python",
   "nbconvert_exporter": "python",
   "pygments_lexer": "ipython2",
   "version": "2.7.6"
  }
 },
 "nbformat": 4,
 "nbformat_minor": 0
}
